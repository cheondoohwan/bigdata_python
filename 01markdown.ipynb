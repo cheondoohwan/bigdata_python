{
 "cells": [
  {
   "cell_type": "markdown",
   "id": "328ea91d-3077-481a-ac1e-5b876403a329",
   "metadata": {},
   "source": [
    "# 마크다운markdown\n",
    "* 주피터 노트북등에 문서 작성시 내용전달시 이해하기 쉽도록 추가적으로 작성하는 꾸밈 문장을 마크다운을 이용해서 작성함\n",
    "* 이러한 종류의 문서는 보통 .md라는 확장자를 가짐\n",
    "* 간단하고 단순한 문법으로 html 기반 문서를 손쉽게 작성하게 해주기 때문에 익혀두면 유용함\n",
    "* 또한 복잡한 수식도 화려하게 작성할 수도 있음"
   ]
  },
  {
   "cell_type": "markdown",
   "id": "6fa7e588-dd5b-40af-a075-e09899182365",
   "metadata": {
    "tags": []
   },
   "source": [
    " 1. 텍스트 기반의 마크업언어로 2004년 존그루버에 의해 만들어졌으며 쉽게 쓰고 읽을 수 있으며 HTML로 변환이 가능 \n",
    " 2. 특수기호와 문자를 이용한 매우 간단한 구조의 문법을 사용하여 웹에서도 보다 빠르게 컨텐츠를 작성하고 보다 직관적으로 인식할 수 있음\n",
    " 3. 마크다운이 최근 각광받기 시작한 이유는 github 덕분임 \n",
    " 4. 깃헙의 저장소Repository에 관한 정보를 기록하는 README.md는 깃헙을 사용하는 사람이라면 누구나 가장 먼저 접하게 되는 마크다운 문서였음\n",
    " 5. 이 문서를 통해서 설치방법, 소스코드 설명, 이슈 등을 간단하게 기록하고 가독성을 높일 수 있다는 강점이 부각되면서 점점 여러 곳으로 퍼져가게 되었음"
   ]
  },
  {
   "cell_type": "markdown",
   "id": "13cdd206-9dd1-4863-a903-9954994f676c",
   "metadata": {},
   "source": [
    "# 마크다운의 장-단점\n",
    "1.2.1. 장점\n",
    "1. 간결하다.\n",
    "2. 별도의 도구없이 작성가능하다.\n",
    "3. 다양한 형태로 변환이 가능하다.\n",
    "3. 텍스트(Text)로 저장되기 때문에 용량이 적어 보관이 용이하다.\n",
    "4. 텍스트파일이기 때문에 버전관리시스템을 이용하여 변경이력을 관리할 수 있다.\n",
    "5. 지원하는 프로그램과 플랫폼이 다양하다.\n",
    "\n",
    "1.2.2. 단점\n",
    "1. 표준이 없다.\n",
    "2. 표준이 없기 때문에 도구에 따라서 변환방식이나 생성물이 다르다.\n",
    "3. 모든 HTML 마크업을 대신하지 못한다."
   ]
  },
  {
   "cell_type": "markdown",
   "id": "e2eea564-aa39-4276-ab0e-88a17d834bed",
   "metadata": {},
   "source": [
    "# 제목\n",
    "* 제목을 작성할때는 #을 사용**\n",
    "# 제목 1\n",
    "## 제목 2\n",
    "### 제목 3\n",
    "#### 제목 4\n",
    "##### 제목 5"
   ]
  },
  {
   "cell_type": "markdown",
   "id": "9eefaef2-25d8-4e2f-877e-2de2b0aed946",
   "metadata": {},
   "source": [
    "# 문장꾸미기\n",
    "* 문장꾸미기에는 **, __, ~~ 등이 사용된다\n",
    "* 줄바꿈은 스페이스바 2번 입력\n",
    "* **진하게** 표시하려면 * 사용\n",
    "* __진하게__ 표시하려면 __ 사용\n",
    "* _기울어진_ 글씨를 표시하려면 __ 사용\n",
    "* ~~취소선은~~ ~로 이용함"
   ]
  },
  {
   "cell_type": "markdown",
   "id": "54bf7d72-70de-4314-80a9-9d88d02cd89b",
   "metadata": {},
   "source": [
    "# 구분선\n",
    "* 구분선을 그을려면 -를 여러번 작성하면 됨  \n",
    "---"
   ]
  },
  {
   "cell_type": "markdown",
   "id": "72a200e3-5e36-4571-a200-4824c74e58c9",
   "metadata": {},
   "source": [
    "# 인용구\n",
    "* 인용구를 입력하려면 > 를 사용함\n",
    "> 시간은 금이라구, 친구!!"
   ]
  },
  {
   "cell_type": "markdown",
   "id": "51c0a8e9-291f-4f8f-97aa-c794153d5f8f",
   "metadata": {},
   "source": [
    "# 순서있는 목록\n",
    "* 순서잇는 목록을 만들려면 항ㅁ고앞에 숫자를 작성한다  \n",
    "\n",
    "## 좋아하는 게임들\n",
    "0. 디아블로 4\n",
    "1. 월드오브워크래프트\n",
    "2. 스타크래프트\n",
    "3. 롤"
   ]
  },
  {
   "cell_type": "markdown",
   "id": "57b99658-ea3c-4eb5-a705-d38f0b563e0c",
   "metadata": {},
   "source": [
    "# 순서없는 \n",
    "* 순서없는 목록을 만들려면 항목앞에 *, +, - 를 작성한다 단, 목록에 들여쓰기를 적용하려면 탭을 사용함\n",
    "\n",
    "## 좋아하는 게임들\n",
    "+ 디아블로 4\n",
    "+ 월드오브워크래프트\n",
    "+ 스타크래프트\n",
    "+ 롤"
   ]
  },
  {
   "cell_type": "markdown",
   "id": "e1a44273-d4b9-469d-b41b-9506540d8ff4",
   "metadata": {},
   "source": [
    "## 좋아하는 음식\n",
    "* 분식\n",
    "    + 라면\n",
    "    + 김밥\n",
    "    + 강감찬\n",
    "* 양식\n",
    "    - 스테끼\n",
    "    - 오로치마루\n",
    "    - 쉬즈곤~\n",
    "* 한식\n",
    "    * 된장밥\n",
    "    * 숙밥\n",
    "    * 니밥\n",
    "    * 잡밥"
   ]
  },
  {
   "cell_type": "markdown",
   "id": "e9e888d7-6965-4e3b-97ed-f3df163fcbce",
   "metadata": {},
   "source": [
    "# 링크\n",
    "+ `[링크텍스트](링크url)` 로 링크를 생성할 수 있음\n",
    "+ [네이버로](https://naver.com)\n",
    "+ [구글로](https://google.com)"
   ]
  },
  {
   "cell_type": "markdown",
   "id": "20a83f62-2c22-49a5-96e8-7c244e16f0ea",
   "metadata": {},
   "source": [
    "# 이미지\n",
    "+ `[그림설명](그림주소)` 로 그림을 나타낼수 있음\n",
    "+ 간단하게 img태그를 사용해서 이미지를 나타낼수도 있음(크기변경 가능)"
   ]
  },
  {
   "cell_type": "markdown",
   "id": "51373d04-d2ba-421a-bbb8-5b8534322969",
   "metadata": {},
   "source": [
    "! [아이유](iu.jpg)"
   ]
  },
  {
   "cell_type": "markdown",
   "id": "22c40f7c-4b01-4804-829b-1226fdd5d81b",
   "metadata": {},
   "source": [
    "<img alt= '수지뽀뽀' src = 'https://file.thisisgame.com/upload/tboard/user/2013/01/25/20130125181216_6417.jpg'\n",
    "     width='200px' height='200px' />"
   ]
  },
  {
   "cell_type": "markdown",
   "id": "a513ad42-d94c-4cf4-9de8-7ef9b200d29a",
   "metadata": {},
   "source": [
    "# 테이블\n",
    "+ 데이터와 |, -- 문자를 이용함\n",
    "+ 정렬을 하려면 : 을 이용함"
   ]
  },
  {
   "cell_type": "markdown",
   "id": "af60031a-429d-4679-83ec-87d952106cc6",
   "metadata": {},
   "source": [
    "|이름|국어|영어|수학|\n",
    "|---|---|---|---|\n",
    "|천두환|100|100|100|\n",
    "|아이유|100|100|100|"
   ]
  },
  {
   "cell_type": "markdown",
   "id": "78ced79d-836d-41ce-ab70-13e59f3742ec",
   "metadata": {},
   "source": [
    "# 수식\n",
    "+ 수학식은 $기호를 이용해서 표현 가능\n",
    "+ 수학식은 LateX 문법을 따름"
   ]
  },
  {
   "cell_type": "markdown",
   "id": "65d7bbe0-1498-4824-b13b-5e429f7df662",
   "metadata": {},
   "source": [
    "$ a^2 = b^2 + c^2 $"
   ]
  },
  {
   "cell_type": "markdown",
   "id": "c96f0cef-c509-41e9-a3f5-911abc82c278",
   "metadata": {},
   "source": [
    "* $ \\begin{equation} x=\\frac{-b\\pm\\sqrt{b^2-4ac}}{2a}~\\text{(단, $b^2 -4ac \\ge 0$)}\n",
    "\\end{equation} $\n",
    "\n",
    "* $ ax^2 +bx+c=0 (a \\neq0) $\n",
    "\n",
    "* $$ x = {-b \\pm \\sqrt{b^2 - 4ac} \\over 2a} $$"
   ]
  },
  {
   "cell_type": "markdown",
   "id": "7de0c0ff-e7a6-452f-a464-6c4795c17670",
   "metadata": {
    "tags": []
   },
   "source": [
    "# 코드블럭\n",
    "* ` ```프로그래밍 코드``` `형태로 작성함\n",
    "* 마크다운을 실행하는 프로그램이나 플랫폼에 따라 코드 컬리링이 지원되기도 함"
   ]
  },
  {
   "cell_type": "markdown",
   "id": "dc7d8f97-6674-48d9-8c27-2824aca4bc72",
   "metadata": {},
   "source": [
    "```\n",
    "public staitc void main(string[] args) {\n",
    "    System.out.print(\"Hello, World!!);\n",
    "}\n",
    "```"
   ]
  }
 ],
 "metadata": {
  "kernelspec": {
   "display_name": "Python 3",
   "language": "python",
   "name": "python3"
  },
  "language_info": {
   "codemirror_mode": {
    "name": "ipython",
    "version": 3
   },
   "file_extension": ".py",
   "mimetype": "text/x-python",
   "name": "python",
   "nbconvert_exporter": "python",
   "pygments_lexer": "ipython3",
   "version": "3.8.12"
  }
 },
 "nbformat": 4,
 "nbformat_minor": 5
}
